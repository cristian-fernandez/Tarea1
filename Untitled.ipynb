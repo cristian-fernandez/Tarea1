{
 "cells": [
  {
   "cell_type": "code",
   "execution_count": null,
   "metadata": {},
   "outputs": [],
   "source": [
    "# Leer CSV"
   ]
  },
  {
   "cell_type": "code",
   "execution_count": 1,
   "metadata": {},
   "outputs": [
    {
     "name": "stdout",
     "output_type": "stream",
     "text": [
      "           LATITUDE\n",
      "0      4.864921e+06\n",
      "1      4.864934e+06\n",
      "2      4.864950e+06\n",
      "3      4.864934e+06\n",
      "4      4.864982e+06\n",
      "...             ...\n",
      "19932  4.864875e+06\n",
      "19933  4.864836e+06\n",
      "19934  4.864889e+06\n",
      "19935  4.864896e+06\n",
      "19936  4.864898e+06\n",
      "\n",
      "[19937 rows x 1 columns]\n"
     ]
    }
   ],
   "source": [
    "import pandas as pd\n",
    "WIFI = pd.io.parsers.read_csv(\"WIFILocationing.csv\")\n",
    "X = WIFI[['LATITUDE']]\n",
    "print(X)"
   ]
  },
  {
   "cell_type": "code",
   "execution_count": null,
   "metadata": {},
   "outputs": [],
   "source": []
  }
 ],
 "metadata": {
  "kernelspec": {
   "display_name": "Python 3",
   "language": "python",
   "name": "python3"
  },
  "language_info": {
   "codemirror_mode": {
    "name": "ipython",
    "version": 3
   },
   "file_extension": ".py",
   "mimetype": "text/x-python",
   "name": "python",
   "nbconvert_exporter": "python",
   "pygments_lexer": "ipython3",
   "version": "3.7.4"
  }
 },
 "nbformat": 4,
 "nbformat_minor": 2
}
