{
 "cells": [
  {
   "cell_type": "code",
   "execution_count": null,
   "metadata": {},
   "outputs": [],
   "source": [
    "# Leer CSV"
   ]
  },
  {
   "cell_type": "code",
   "execution_count": 1,
   "metadata": {},
   "outputs": [
    {
     "name": "stdout",
     "output_type": "stream",
     "text": [
      "           LATITUDE\n",
      "0      4.864921e+06\n",
      "1      4.864934e+06\n",
      "2      4.864950e+06\n",
      "3      4.864934e+06\n",
      "4      4.864982e+06\n",
      "...             ...\n",
      "19932  4.864875e+06\n",
      "19933  4.864836e+06\n",
      "19934  4.864889e+06\n",
      "19935  4.864896e+06\n",
      "19936  4.864898e+06\n",
      "\n",
      "[19937 rows x 1 columns]\n"
     ]
    }
   ],
   "source": [
    "import pandas as pd\n",
    "WIFI = pd.io.parsers.read_csv(\"WIFILocationing.csv\")\n",
    "X = WIFI[['LATITUDE']]\n",
    "print(X)"
   ]
  },
  {
   "cell_type": "markdown",
   "metadata": {},
   "source": [
    "# Los errores / mensajes de advertencia que encontró y cómo los superó (estos deberían ser en forma de celdas de reducción)"
   ]
  },
  {
   "cell_type": "raw",
   "metadata": {},
   "source": [
    "1- Poder correr los Markdown, al puro inicio no entendia porque no me servia.\n",
    "2- Cuando correr los codigos del capitulo 6 no lograba que encontrara los csv y los deferentes archivos.\n",
    "3- Cuando corri el ultimo load del capitulo 5 no hizo nada y no entendi si era lo correcto.\n"
   ]
  },
  {
   "cell_type": "markdown",
   "metadata": {},
   "source": [
    "# Preguntas\n",
    "## 1. ¿Fue sencillo instalar Python y todas las bibliotecas?\n",
    "### Ya lo habiamos instalado y no fue complicado. Solo la parte de cambiar la carpeta de inicio de jupyter\n",
    "## 2. ¿Fue útil el tutorial? ¿Lo recomendaría a otros?\n",
    "### El del libro los capitulos 5 y 6 fueron confusos pero si ayudan bastante. Y los codigos fueron faciles de usar.\n",
    "## 3. ¿Cuáles son las principales lecciones que has aprendido de esta experiencia?\n",
    "### Cargar datos, y que si uno no tiene todos los archivos juntos en la misma carpeta no los logra encontrar y que lo mejor es tener la carpeta del proyecto en la misma carpeta de jupyter"
   ]
  },
  {
   "cell_type": "code",
   "execution_count": null,
   "metadata": {},
   "outputs": [],
   "source": []
  }
 ],
 "metadata": {
  "kernelspec": {
   "display_name": "Python 3",
   "language": "python",
   "name": "python3"
  },
  "language_info": {
   "codemirror_mode": {
    "name": "ipython",
    "version": 3
   },
   "file_extension": ".py",
   "mimetype": "text/x-python",
   "name": "python",
   "nbconvert_exporter": "python",
   "pygments_lexer": "ipython3",
   "version": "3.7.4"
  }
 },
 "nbformat": 4,
 "nbformat_minor": 2
}
